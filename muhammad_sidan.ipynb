{
  "cells": [
    {
      "cell_type": "code",
      "execution_count": null,
      "metadata": {
        "id": "Ff018zlLKkQ3"
      },
      "outputs": [],
      "source": [
        "'''1.Write a Python function to accept a string value from the user and display the\n",
        "count of each character in that string. Sample input: Enter a string value:\n",
        "assembly Sample output: a=1, s=2, e=1, m=1, b=1, l=1, y=1 '''"
      ]
    },
    {
      "cell_type": "code",
      "execution_count": null,
      "metadata": {
        "colab": {
          "base_uri": "https://localhost:8080/"
        },
        "id": "7nOBSlpvLT0v",
        "outputId": "6d40ff1f-92a3-401d-d908-22f27c8fad93"
      },
      "outputs": [
        {
          "name": "stdout",
          "output_type": "stream",
          "text": [
            "Enter a string value: 21\n"
          ]
        }
      ],
      "source": [
        "def count_characters(string):\n",
        "  counts = {}\n",
        "  for char in string:\n",
        "    if char in counts:\n",
        "      counts[char] += 1\n",
        "    else:\n",
        "      counts[char] = 1\n",
        "  return counts\n",
        "\n",
        "string = input(\"Enter a string value: \")\n",
        "counts = count_characters(string)"
      ]
    },
    {
      "cell_type": "code",
      "execution_count": null,
      "metadata": {
        "id": "wjocsM9TMUqr"
      },
      "outputs": [],
      "source": [
        "'''2.Write a Python function to find the maximum of three numbers Sample input:\n",
        "34,12,7 Sample output: 34'''"
      ]
    },
    {
      "cell_type": "code",
      "execution_count": null,
      "metadata": {
        "colab": {
          "base_uri": "https://localhost:8080/"
        },
        "id": "eyEiOq8vdhIH",
        "outputId": "09769860-7625-499f-d824-9a9ee6ca6763"
      },
      "outputs": [
        {
          "name": "stdout",
          "output_type": "stream",
          "text": [
            "Enter the first number: 6\n",
            "Enter the second number: 8\n",
            "Enter the third number: 4\n",
            "8.0 is the maximum\n"
          ]
        }
      ],
      "source": [
        "def findmax(a,b,c):\n",
        "  return max(a,b,c)\n",
        "a = float(input(\"Enter the first number: \"))\n",
        "b = float(input(\"Enter the second number: \"))\n",
        "c = float(input(\"Enter the third number: \"))\n",
        "if a>b and a>c:\n",
        "  print(a,'is the maximum')\n",
        "elif b>a and b>c:\n",
        "  print(b,'is the maximum')\n",
        "else:\n",
        "  print(c,'is the maximum')"
      ]
    },
    {
      "cell_type": "code",
      "execution_count": null,
      "metadata": {
        "id": "XnWEoMyuZLls"
      },
      "outputs": [],
      "source": [
        "'''7.Write a Python function to find the sum of squares of the numbers in a list.\n",
        "Sample input: 2,1,3,1 Sample output: 15'''\n"
      ]
    },
    {
      "cell_type": "code",
      "execution_count": null,
      "metadata": {
        "colab": {
          "base_uri": "https://localhost:8080/"
        },
        "id": "LKfEx5czau9f",
        "outputId": "2d5b9966-aa2a-4515-a247-1d3aa22ac5ad"
      },
      "outputs": [
        {
          "name": "stdout",
          "output_type": "stream",
          "text": [
            "15\n"
          ]
        }
      ],
      "source": [
        "def sum_of_squares(numbers):\n",
        "  sum_of_squares = 0\n",
        "  for number in numbers:\n",
        "    sum_of_squares += number ** 2\n",
        "  return sum_of_squares\n",
        "\n",
        "numbers = [2, 1, 3, 1]\n",
        "print(sum_of_squares(numbers))\n"
      ]
    },
    {
      "cell_type": "code",
      "execution_count": null,
      "metadata": {
        "id": "Ap-sDkYJsmy7"
      },
      "outputs": [],
      "source": [
        "'''3. Write a Python function called exponent(base,exp) that returns an integer\n",
        "value of base raises to the power of exp. Sample input: Enter the base: 2\n",
        "Enter the exponent: 3 Sample output: 8 '''"
      ]
    },
    {
      "cell_type": "code",
      "execution_count": null,
      "metadata": {
        "colab": {
          "base_uri": "https://localhost:8080/"
        },
        "id": "br8BeZG_suDC",
        "outputId": "478bfe62-323d-44b0-9d78-67503fa25036"
      },
      "outputs": [
        {
          "name": "stdout",
          "output_type": "stream",
          "text": [
            "Enter the base: 4\n",
            "Enter the exp: 6\n",
            "the output is : 4096.0\n"
          ]
        }
      ],
      "source": [
        "def exponent(base, exp):\n",
        "    return base ** exp\n",
        "base = float(input(\"Enter the base: \"))\n",
        "exp = float(input(\"Enter the exp: \"))\n",
        "result = exponent(base, exp)\n",
        "print(\"the output is :\",result)\n"
      ]
    },
    {
      "cell_type": "code",
      "execution_count": null,
      "metadata": {
        "id": "BOehzdk2u7zP"
      },
      "outputs": [],
      "source": [
        "'''4. Write a Python function that takes a positive integer and returns the sum of\n",
        "the cube of all the positive integers smaller than the specified number.\n",
        "Sample input: 4 Sample output: 36.'''"
      ]
    },
    {
      "cell_type": "code",
      "execution_count": null,
      "metadata": {
        "colab": {
          "base_uri": "https://localhost:8080/"
        },
        "id": "kxGxY_envU-y",
        "outputId": "7e7e7b62-5b58-4540-f9d7-19fc9c0dc6db"
      },
      "outputs": [
        {
          "name": "stdout",
          "output_type": "stream",
          "text": [
            "Enter the number: 8\n",
            "The sum of positive squared smaller than the specified number is: 784\n"
          ]
        }
      ],
      "source": [
        "def sumofcube(a):\n",
        "  sum=0\n",
        "  if a>0:\n",
        "    for i in range(1,a):\n",
        "      sum+=i**3\n",
        "  else:\n",
        "    print(\"The given number is not a positive integer!\")\n",
        "  return sum\n",
        "a=int(input(\"Enter the number: \"))\n",
        "b=sumofcube(a)\n",
        "print(\"The sum of positive squared smaller than the specified number is:\",b)"
      ]
    },
    {
      "cell_type": "code",
      "execution_count": null,
      "metadata": {
        "id": "za9_FD5Hv8_I"
      },
      "outputs": [],
      "source": [
        "'''5.Write a Python program which iterates from 1 to 10. For multiples of 2, print\n",
        "“Fizz” instead of the number and for the multiples of 5, print “Buzz”. For\n",
        "numbers which are multiples of both 2 and 5, print “FizzBuzz”. Sample input:\n",
        "numbers from 1 to 10 Sample output: 1 Fizz 3 Fizz Buzz Fizz 7 Fizz 9\n",
        "FizzBuzz'''"
      ]
    },
    {
      "cell_type": "code",
      "execution_count": null,
      "metadata": {
        "colab": {
          "base_uri": "https://localhost:8080/"
        },
        "id": "Xbvu9nLoxQBP",
        "outputId": "a68dcc7b-c0c4-4b76-df55-8243c9022e5c"
      },
      "outputs": [
        {
          "name": "stdout",
          "output_type": "stream",
          "text": [
            "1\n",
            "Fizz\n",
            "3\n",
            "Fizz\n",
            "Buzz\n",
            "Fizz\n",
            "7\n",
            "Fizz\n",
            "9\n",
            "FizzBuzz\n"
          ]
        }
      ],
      "source": [
        "for i in range(1, 11):\n",
        "    if i % 2 == 0 and i % 5 == 0:\n",
        "        print(\"FizzBuzz\")\n",
        "    elif i % 2 == 0:\n",
        "        print(\"Fizz\")\n",
        "    elif i % 5 == 0:\n",
        "        print(\"Buzz\")\n",
        "    else:\n",
        "        print(i)\n"
      ]
    },
    {
      "cell_type": "code",
      "execution_count": null,
      "metadata": {
        "id": "wtQ_w8oCxKm3"
      },
      "outputs": [],
      "source": [
        "'''6.Write a Python function to find the most frequent item in a list of numbers.\n",
        "Sample input: 2, 3, 4, 2, 5, 2 Sample output: 2 '''"
      ]
    },
    {
      "cell_type": "code",
      "execution_count": null,
      "metadata": {
        "colab": {
          "base_uri": "https://localhost:8080/"
        },
        "id": "NxcNSb-jyy2G",
        "outputId": "179a0f08-14c0-4f52-e6a0-6123b4018648"
      },
      "outputs": [
        {
          "name": "stdout",
          "output_type": "stream",
          "text": [
            "Enter the amount of numbers to be inputted into the list: 3\n"
          ]
        }
      ],
      "source": [
        "\n",
        "def commonno(L):\n",
        "  maxcount=0\n",
        "  mostfrequent=0\n",
        "  for i in L:\n",
        "    count=L.count(i)\n",
        "    if count>maxcount:\n",
        "      mostfrequent=i\n",
        "      maxcount=count\n",
        "    elif maxcount==1:\n",
        "      print(\"There is no frequent number!\")\n",
        "      break\n",
        "  return mostfrequent,maxcount\n",
        "\n",
        "L=[]\n",
        "n=int(input(\"Enter the amount of numbers to be inputted into the list: \"))\n",
        "for i in range(0,n):\n",
        "  a=int(input(\"Enter the Number: \"))\n",
        "  L.append(a)\n",
        "b,c=commonno(L)\n",
        "if c!=1:\n",
        "  print(\"The most frequent item is:\",b,\"and its count is:\",c)\n"
      ]
    },
    {
      "cell_type": "code",
      "execution_count": null,
      "metadata": {
        "id": "VOgiaVPAy-q4"
      },
      "outputs": [],
      "source": [
        "'''8.Write a Python program using for loop that will iterate from 1 to 15. For each\n",
        "iteration, check if the current number is odd or even, and display the message\n",
        "to the screen as odd or even. Sample input: 1….15 Sample output: 1-odd 2-\n",
        "even …. 15-odd"
      ]
    },
    {
      "cell_type": "code",
      "execution_count": null,
      "metadata": {
        "colab": {
          "background_save": true
        },
        "id": "gcd8VqA2zziV",
        "outputId": "30a83ae7-9c35-4b99-8440-c3315f23ece3"
      },
      "outputs": [
        {
          "name": "stdout",
          "output_type": "stream",
          "text": [
            "1-odd\n",
            "2-even\n",
            "3-odd\n",
            "4-even\n",
            "5-odd\n",
            "6-even\n",
            "7-odd\n",
            "8-even\n",
            "9-odd\n",
            "10-even\n",
            "11-odd\n",
            "12-even\n",
            "13-odd\n",
            "14-even\n",
            "15-odd\n"
          ]
        }
      ],
      "source": [
        "for i in range(1, 16):\n",
        "    if i % 2 == 0:\n",
        "        print(f\"{i}-even\")\n",
        "    else:\n",
        "        print(f\"{i}-odd\")\n"
      ]
    },
    {
      "cell_type": "code",
      "execution_count": null,
      "metadata": {
        "id": "b_Olisya25G_"
      },
      "outputs": [],
      "source": [
        "'''9. Write a Python function to convert temperatures to and from Celsius\n",
        "Fahrenheit. [Formula: c/5=f-32/9 where c=temperature in Celsius and f=\n",
        "temperature in Fahrenheit.] Sample input: Temperature in Fahrenheit =41\n",
        "Sample output: Temperature in Celsius =5 '''"
      ]
    },
    {
      "cell_type": "code",
      "execution_count": null,
      "metadata": {
        "id": "o4iIdVGg3t_b"
      },
      "outputs": [],
      "source": [
        "def convert_temprature(fahrenheit):\n",
        "  celsius=(fahrenheit-32) * 5/9\n",
        "  return celsius\n",
        "  fahrenheit =41\n",
        "  celsius=convert_temprature(fahrenheit)\n",
        "  print(\"temprature in celsius:\",celsius)"
      ]
    },
    {
      "cell_type": "code",
      "execution_count": null,
      "metadata": {
        "id": "ko_SfOiJ5HBQ"
      },
      "outputs": [],
      "source": [
        "'''10.Write a Python function to calculate the factorial of a number (a nonnegative\n",
        "integer). The function accepts the number as an argument. Sample input: 3\n",
        "Sample output: 6'''"
      ]
    },
    {
      "cell_type": "code",
      "execution_count": null,
      "metadata": {
        "id": "Fpb9D21-5NWM"
      },
      "outputs": [],
      "source": [
        "def factorial(n):\n",
        "  if n == 0:\n",
        "    return 1\n",
        "  else:\n",
        "    return n * factorial(n-1)\n",
        "\n",
        "n = int(input(\"Enter a non-negative integer: \"))\n",
        "print(factorial(n))\n"
      ]
    },
    {
      "cell_type": "code",
      "execution_count": null,
      "metadata": {
        "id": "u8Ah3eSW5XOS"
      },
      "outputs": [],
      "source": []
    }
  ],
  "metadata": {
    "colab": {
      "provenance": []
    },
    "kernelspec": {
      "display_name": "Python 3",
      "name": "python3"
    },
    "language_info": {
      "name": "python"
    }
  },
  "nbformat": 4,
  "nbformat_minor": 0
}